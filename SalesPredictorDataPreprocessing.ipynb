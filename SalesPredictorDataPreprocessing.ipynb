{
 "cells": [
  {
   "cell_type": "code",
   "execution_count": 1,
   "id": "medium-victory",
   "metadata": {},
   "outputs": [],
   "source": [
    "import pandas as pd\n",
    "import numpy as np"
   ]
  },
  {
   "cell_type": "code",
   "execution_count": 32,
   "id": "periodic-conference",
   "metadata": {},
   "outputs": [],
   "source": [
    "# Reading csv file\n",
    "df = pd.read_csv('data.csv')\n",
    "\n",
    "data = df.iloc[:,[1,2,3]].values\n",
    "date = df.iloc[:,[0]].values\n",
    "store = data[:,1]\n",
    "item = data[:,2]"
   ]
  },
  {
   "cell_type": "code",
   "execution_count": 33,
   "id": "quiet-kruger",
   "metadata": {},
   "outputs": [],
   "source": [
    "store_id = set(store)\n",
    "item_id = set(item)"
   ]
  },
  {
   "cell_type": "code",
   "execution_count": 34,
   "id": "crucial-identification",
   "metadata": {},
   "outputs": [
    {
     "name": "stdout",
     "output_type": "stream",
     "text": [
      "[[ 6 29 78]\n",
      " [ 7 21 32]\n",
      " [ 8 38 86]\n",
      " ...\n",
      " [ 9 17 54]\n",
      " [ 7 20 50]\n",
      " [ 2  4 32]]\n"
     ]
    }
   ],
   "source": [
    "print(data)"
   ]
  },
  {
   "cell_type": "code",
   "execution_count": 24,
   "id": "successful-contract",
   "metadata": {},
   "outputs": [],
   "source": [
    "month = ['-01-','-02-','-03-','-04-','-05-','-06-'\n",
    "        ,'-07-','-08-','-09-','-10-','-11-','-12-']"
   ]
  },
  {
   "cell_type": "code",
   "execution_count": 37,
   "id": "touched-singapore",
   "metadata": {},
   "outputs": [],
   "source": [
    "m = []\n",
    "for i in range(date.shape[0]):\n",
    "    for j in range(len(month)):\n",
    "        m.append((j+1,data[i]))"
   ]
  },
  {
   "cell_type": "code",
   "execution_count": 46,
   "id": "smoking-access",
   "metadata": {},
   "outputs": [
    {
     "name": "stdout",
     "output_type": "stream",
     "text": [
      "[1 array([ 6, 29, 78])]\n"
     ]
    }
   ],
   "source": [
    "m = np.array(m)\n",
    "print(m[0])"
   ]
  },
  {
   "cell_type": "code",
   "execution_count": 52,
   "id": "better-scale",
   "metadata": {},
   "outputs": [],
   "source": [
    "sale = []\n",
    "for i in range(12):\n",
    "    for j in range(10):\n",
    "        for k in range(50):\n",
    "            s=0\n",
    "            for l in range(m.shape[0]):\n",
    "                if(m[l][0] == i+1 and m[l][1][0] == j+1 and m[l][1][1] == k+1):\n",
    "                    s+=m[l][1][2]\n",
    "            sale.append((i+1,j+1,k+1,s))"
   ]
  },
  {
   "cell_type": "code",
   "execution_count": 56,
   "id": "promising-speech",
   "metadata": {},
   "outputs": [
    {
     "name": "stdout",
     "output_type": "stream",
     "text": [
      "(6000, 4)\n",
      "[[   1    1    1  296]\n",
      " [   1    1    2  438]\n",
      " [   1    1    3  300]\n",
      " ...\n",
      " [  12   10   48  556]\n",
      " [  12   10   49  226]\n",
      " [  12   10   50 1183]]\n"
     ]
    }
   ],
   "source": [
    "sale = np.array(sale)\n",
    "print(sale.shape)\n",
    "print(sale)"
   ]
  },
  {
   "cell_type": "code",
   "execution_count": 57,
   "id": "official-issue",
   "metadata": {},
   "outputs": [],
   "source": [
    "pd.DataFrame(sale).to_csv(\"sale_data.csv\",header=['month','store_id','item_id','sale'],index=False)"
   ]
  },
  {
   "cell_type": "code",
   "execution_count": 63,
   "id": "maritime-record",
   "metadata": {},
   "outputs": [
    {
     "name": "stdout",
     "output_type": "stream",
     "text": [
      "[  1   1   2 438]\n"
     ]
    }
   ],
   "source": [
    "print(sale[1])"
   ]
  },
  {
   "cell_type": "code",
   "execution_count": 64,
   "id": "comparative-characteristic",
   "metadata": {},
   "outputs": [],
   "source": [
    "store_1 = []\n",
    "for i in range(sale.shape[0]):\n",
    "    if (sale[i][1] == 1):\n",
    "        store_1.append((sale[i][0],sale[i][2],sale[i][3]))\n",
    "        \n",
    "store_1 = np.array(store_1)"
   ]
  },
  {
   "cell_type": "code",
   "execution_count": 82,
   "id": "concerned-branch",
   "metadata": {},
   "outputs": [
    {
     "name": "stdout",
     "output_type": "stream",
     "text": [
      "2\n"
     ]
    }
   ],
   "source": [
    "print(store_1[60][0])"
   ]
  },
  {
   "cell_type": "code",
   "execution_count": 83,
   "id": "joined-quarterly",
   "metadata": {},
   "outputs": [],
   "source": [
    "store1 = []\n",
    "for i in range(12):\n",
    "    s=0\n",
    "    for j in range(store_1.shape[0]):\n",
    "        if(store_1[j][0]==(i+1)):\n",
    "            s+=store_1[i][2]\n",
    "    store1.append(s)"
   ]
  },
  {
   "cell_type": "code",
   "execution_count": 84,
   "id": "serious-spice",
   "metadata": {},
   "outputs": [
    {
     "name": "stdout",
     "output_type": "stream",
     "text": [
      "[14800 21900 15000  7500 10750 44400 30800 47200 20100 33350 51100 44650]\n"
     ]
    }
   ],
   "source": [
    "store1 = np.array(store1)\n",
    "print(store1)"
   ]
  },
  {
   "cell_type": "code",
   "execution_count": 93,
   "id": "designed-scenario",
   "metadata": {},
   "outputs": [],
   "source": [
    "store1_data = []\n",
    "for i in range(12):\n",
    "    for j in range(store_1.shape[0]):\n",
    "        if(store_1[j][0]==(i+1)):\n",
    "            store1_data.append((int(store_1[j][0]),int(store_1[j][1]),int(store_1[j][2]),\"{:.2f}\".format(store_1[j][2]/store1[i])))\n",
    "store1_data = np.array(store1_data)"
   ]
  },
  {
   "cell_type": "code",
   "execution_count": 99,
   "id": "persistent-appeal",
   "metadata": {},
   "outputs": [
    {
     "name": "stdout",
     "output_type": "stream",
     "text": [
      "(600, 4)\n"
     ]
    }
   ],
   "source": [
    "print(store1_data.shape)"
   ]
  },
  {
   "cell_type": "code",
   "execution_count": 95,
   "id": "electoral-being",
   "metadata": {},
   "outputs": [],
   "source": [
    "pd.DataFrame(store1_data).to_csv(\"store1_data.csv\",header=['month','item_id','sale','sale_per_month'],index=False)"
   ]
  },
  {
   "cell_type": "code",
   "execution_count": 96,
   "id": "specific-puzzle",
   "metadata": {},
   "outputs": [],
   "source": [
    "stock = np.random.randint(800,2000,size=600)\n",
    "r_shelf_time = np.random.randint(1,10,size=600)"
   ]
  },
  {
   "cell_type": "code",
   "execution_count": 100,
   "id": "floating-serum",
   "metadata": {},
   "outputs": [
    {
     "name": "stdout",
     "output_type": "stream",
     "text": [
      "(600,)\n",
      "(600,)\n"
     ]
    }
   ],
   "source": [
    "print(stock.shape)\n",
    "print(r_shelf_time.shape)"
   ]
  },
  {
   "cell_type": "code",
   "execution_count": 103,
   "id": "intellectual-prisoner",
   "metadata": {},
   "outputs": [],
   "source": [
    "df = pd.read_csv('store1_data.csv')\n",
    "df['stock'] = stock\n",
    "df['r_shelf_time'] = r_shelf_time\n",
    "df.to_csv('store_data.csv',index=False)"
   ]
  },
  {
   "cell_type": "code",
   "execution_count": 122,
   "id": "introductory-serbia",
   "metadata": {},
   "outputs": [],
   "source": [
    "sale = np.array(store1_data[:,3],dtype='float64')"
   ]
  },
  {
   "cell_type": "code",
   "execution_count": 118,
   "id": "earned-amount",
   "metadata": {},
   "outputs": [],
   "source": [
    "discount = []\n",
    "for i in range(600):\n",
    "    if(sale[i]*stock[i] < r_shelf_time[i]):\n",
    "        discount.append(0)\n",
    "    elif(sale[i]*stock[i] > 2*r_shelf_time[i]):\n",
    "        discount.append(60)\n",
    "    elif(sale[i]*stock[i] > r_shelf_time[i]):\n",
    "        discount.append(40)"
   ]
  },
  {
   "cell_type": "code",
   "execution_count": 121,
   "id": "critical-printing",
   "metadata": {},
   "outputs": [
    {
     "name": "stdout",
     "output_type": "stream",
     "text": [
      "[60 60 60 60 60 60 60 60 60 60 60 60 60 60 60 60 60 60 60 60 60 60 60 60\n",
      " 60 60 40 60 60 60 60 60 60 60 60 60 60 60 60 60 60 60 60 60 60 60 60 60\n",
      " 60 60 60 60 40 60 60 60 60 60 60 60 60 60 60 60 60 40 60 60 60 60 60 60\n",
      " 60 60 60 60 60 60 60 60 60 60 60 60 60 60 60 60 60 60 60 60 60 60 60 60\n",
      " 60 60 60 60 60 60 60 40 40 60 60 60 60 60 60 60 60 60 60 60 60 60 60 60\n",
      " 60 60 60 60 60 60 60 60 60 60 60 60 60 60 60 60 60 60 60 60 60 60 60 60\n",
      " 60 60 60 60 60 60 60 60 60 60 60 60 60 60 60 60 60 60 60 60 60 60 60 60\n",
      " 60 60 60 60 60 60 60 60 60 60 60 60 60 60 60 60 60 60 60 60 60 60 60 60\n",
      " 60 60 60 60 60 60 60 60 60 60 60 60 60 60 60 60 60 60 60 60 60 60 60 60\n",
      " 40 60 60 60 60 60 60 60 60 60 60 60 60 60 60 60 60 60 60 60 60 60 60 60\n",
      " 60 60 60 60 60 60 60 60 60 60 40 40 60  0  0 60 60 60 60 60 60 60 60 60\n",
      " 60 60  0 60 60 60 60 60 40 60 60 60  0 60 60 60 60 60 60 60 60 40 40 40\n",
      " 60 60  0  0 60 60 40 60 60 40 40 60 60 40 60  0 60 60 60 60 60 60 60 60\n",
      " 60 40 60 60  0 60 60 60 40 60 60 60 60 60 40 60 40 60 60 40 60 40 60 60\n",
      " 40 60 60 60  0 40 60 60 60 60 40 60 60 60 60 40 60  0  0 60 60 60 60 40\n",
      " 60 60 60 40 60  0  0 60 60 60 40 60 60 60 60 40  0 60 60 60 60 40 60 40\n",
      " 60 60 60 60 60 40  0  0 60 60 60 60  0 60 60 60 60 60 60 40 60 60 60 60\n",
      " 60 60 60 60 60 60 60 60 60 60 60 60 60 60 60 60 60 60 40 60 60 60 60 60\n",
      " 60 60 60 60 60 60 60 60 60 60 60 60 60 60 40 60 60 60 60 40 40  0 60 60\n",
      " 60 60 60 60 60 60 60 60 60 60  0 60 60 60 40 60 40 60 60 60 60 60 40 40\n",
      " 60 60 60 60 60 60 60 60 60 60  0 40 60 60 60 60 60 60 40 60 60 40 40  0\n",
      "  0 60 60 60 40 60 60 60 40 40 60  0  0 40 60 60 40 60  0 60 60 60  0 60\n",
      " 40 60 60 60 60 60 40 60  0 60 60 60  0  0 60 40 40 60  0 60 40 40 60 60\n",
      " 60  0  0 60 60 60 60  0 60 60 60 60 60 40  0 60 60 60 60 60  0 60 60 60\n",
      "  0 60 40 60 60 60 40 60 60 40 60 60 60 60  0  0 60 60 60 60 60 60 40 60]\n"
     ]
    }
   ],
   "source": [
    "discount = np.array(discount)\n",
    "print(discount)"
   ]
  },
  {
   "cell_type": "code",
   "execution_count": 123,
   "id": "educated-tomorrow",
   "metadata": {},
   "outputs": [],
   "source": [
    "df = pd.read_csv('store1_data.csv')\n",
    "df.drop('sale_per_month',inplace=True, axis=1)\n",
    "df['sale_per_month'] = sale\n",
    "df['stock'] = stock\n",
    "df['r_shelf_time'] = r_shelf_time\n",
    "df['discount'] = discount\n",
    "df.to_csv('warehouse_data.csv',index=False)"
   ]
  },
  {
   "cell_type": "code",
   "execution_count": null,
   "id": "international-motorcycle",
   "metadata": {},
   "outputs": [],
   "source": []
  }
 ],
 "metadata": {
  "kernelspec": {
   "display_name": "Python 3",
   "language": "python",
   "name": "python3"
  },
  "language_info": {
   "codemirror_mode": {
    "name": "ipython",
    "version": 3
   },
   "file_extension": ".py",
   "mimetype": "text/x-python",
   "name": "python",
   "nbconvert_exporter": "python",
   "pygments_lexer": "ipython3",
   "version": "3.8.6"
  }
 },
 "nbformat": 4,
 "nbformat_minor": 5
}
